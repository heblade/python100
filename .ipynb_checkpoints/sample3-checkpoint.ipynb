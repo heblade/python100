{
 "cells": [
  {
   "cell_type": "markdown",
   "metadata": {},
   "source": [
    "题目：一个整数，它加上100后是一个完全平方数，再加上168又是一个完全平方数，请问该数是多少？"
   ]
  },
  {
   "cell_type": "markdown",
   "metadata": {},
   "source": [
    "解法1：假设该数为 x。\n",
    "1、则：x + 100 = n2, x + 100 + 168 = m2\n",
    "2、计算等式：m2 - n2 = (m + n)(m - n) = 168\n",
    "3、设置： m + n = i，m - n = j，i * j =168，i 和 j 至少一个是偶数\n",
    "4、可得： m = (i + j) / 2， n = (i - j) / 2，i 和 j 要么都是偶数，要么都是奇数。\n",
    "5、从 3 和 4 推导可知道，i 与 j 均是大于等于 2 的偶数。\n",
    "6、由于 i * j = 168， j>=2，则 1 < i < 168 / 2 + 1。\n",
    "7、接下来将 i 的所有数字循环计算即可。"
   ]
  },
  {
   "cell_type": "code",
   "execution_count": 2,
   "metadata": {},
   "outputs": [
    {
     "name": "stdout",
     "output_type": "stream",
     "text": [
      "-99.0\n",
      "21.0\n",
      "261.0\n",
      "1581.0\n"
     ]
    }
   ],
   "source": [
    "for i in range(1, 85):\n",
    "    if 168 % i == 0:\n",
    "        j = 168 / i;\n",
    "        if i > j and (i + j) % 2 == 0 and (i - j) % 2 == 0:\n",
    "            m = (i + j) / 2;\n",
    "            n = (i - j) / 2;\n",
    "            x = n ** 2 - 100;\n",
    "            print(x)"
   ]
  },
  {
   "cell_type": "markdown",
   "metadata": {},
   "source": [
    "解法2: 设这个整数为x\n",
    "1、 x+100=n^2和x+100+168=m^2\n",
    "推出 m^2-n^2=168\n",
    "即   （m+n)(m-n)=168\n",
    "设    m+n=i m-n=j\n",
    "则    i*j=168\n",
    "由    i>0 j>0   推出  i%2=0 j%2=0\n",
    "由    168=2*2*2*3*7\n",
    "上面两个条件推出i与j值的范围[2,4,6,12,14,28,42,84]\n",
    "反推：m=(i+j)/2和n=(i-j)/2 并且 n>0 推得 i>j\n",
    "则     i=[14,28,42,84]\n",
    "       j=[12,6,4,2]"
   ]
  },
  {
   "cell_type": "code",
   "execution_count": 3,
   "metadata": {},
   "outputs": [
    {
     "name": "stdout",
     "output_type": "stream",
     "text": [
      "m is 13.0, n is 1.0, x is -99.0\n",
      "m is 17.0, n is 11.0, x is 21.0\n",
      "m is 23.0, n is 19.0, x is 261.0\n",
      "m is 43.0, n is 41.0, x is 1581.0\n"
     ]
    }
   ],
   "source": [
    "arr1 = [14, 28, 42, 84]\n",
    "arr2 = [12, 6, 4, 2]\n",
    "for i in range(0, 4):\n",
    "    m = (arr1[i] + arr2[i])/2;\n",
    "    n = (arr1[i] - arr2[i])/2;\n",
    "    x = n ** 2 - 100;\n",
    "    print(\"m is {0}, n is {1}, x is {2}\".format(m, n, x));"
   ]
  },
  {
   "cell_type": "code",
   "execution_count": null,
   "metadata": {},
   "outputs": [],
   "source": []
  }
 ],
 "metadata": {
  "kernelspec": {
   "display_name": "Python 3",
   "language": "python",
   "name": "python3"
  },
  "language_info": {
   "codemirror_mode": {
    "name": "ipython",
    "version": 3
   },
   "file_extension": ".py",
   "mimetype": "text/x-python",
   "name": "python",
   "nbconvert_exporter": "python",
   "pygments_lexer": "ipython3",
   "version": "3.6.2"
  }
 },
 "nbformat": 4,
 "nbformat_minor": 2
}
