{
 "cells": [
  {
   "cell_type": "markdown",
   "metadata": {},
   "source": [
    "题目：输入某年某月某日，判断这一天是这一年的第几天？"
   ]
  },
  {
   "cell_type": "markdown",
   "metadata": {},
   "source": [
    "程序分析：以3月5日为例，应该先把前两个月的加起来，然后再加上5天即本年的第几天，特殊情况，闰年且输入月份大于2时需考虑多加一天"
   ]
  },
  {
   "cell_type": "code",
   "execution_count": 3,
   "metadata": {},
   "outputs": [
    {
     "name": "stdout",
     "output_type": "stream",
     "text": [
      "年: \n",
      "2018\n",
      "月:\n",
      "5\n",
      "日:\n",
      "20\n",
      "2018.5.20是2018年的第140天\n"
     ]
    }
   ],
   "source": [
    "commonyear = [31,28,31,30,31,30,31,31,30,31,30,31 ];\n",
    "leapyear = [31,29,31,30,31,30,31,31,30,31,30,31];\n",
    "\n",
    "year = int(input(\"年: \\n\"));\n",
    "month = int(input(\"月:\\n\"));\n",
    "day = int(input(\"日:\\n\"));\n",
    "\n",
    "#判断平年或闰年\n",
    "if year % 100 == 0:\n",
    "    if year % 400 == 0:\n",
    "        current = leapyear;\n",
    "    else:\n",
    "        current = commonyear;\n",
    "else:\n",
    "    if year % 4 == 0:\n",
    "        current = leapyear;\n",
    "    else:\n",
    "        current = commonyear;\n",
    "#计算天数\n",
    "\n",
    "days = sum(current[0:month - 1]) + day;\n",
    "\n",
    "print(\"{0}.{1}.{2}是{3}年的第{4}天\".format(year, month, day, year, days));"
   ]
  }
 ],
 "metadata": {
  "kernelspec": {
   "display_name": "Python 3",
   "language": "python",
   "name": "python3"
  },
  "language_info": {
   "codemirror_mode": {
    "name": "ipython",
    "version": 3
   },
   "file_extension": ".py",
   "mimetype": "text/x-python",
   "name": "python",
   "nbconvert_exporter": "python",
   "pygments_lexer": "ipython3",
   "version": "3.6.2"
  }
 },
 "nbformat": 4,
 "nbformat_minor": 2
}
