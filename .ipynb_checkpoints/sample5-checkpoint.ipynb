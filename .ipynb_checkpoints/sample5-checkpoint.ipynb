{
 "cells": [
  {
   "cell_type": "markdown",
   "metadata": {},
   "source": [
    "题目：输入三个整数x,y,z，请把这三个数由小到大输出。"
   ]
  },
  {
   "cell_type": "markdown",
   "metadata": {},
   "source": [
    "程序分析：我们想办法把最小的数放到x上，先将x与y进行比较，如果x>y则将x与y的值进行交换，然后再用x与z进行比较，如果x>z则将x与z的值进行交换，这样能使x最小。"
   ]
  },
  {
   "cell_type": "code",
   "execution_count": 1,
   "metadata": {},
   "outputs": [
    {
     "name": "stdout",
     "output_type": "stream",
     "text": [
      "please input x: 13\n",
      "please input y: ede\n",
      "please input integer.\n",
      "please input x: 13\n",
      "please input y: 11\n",
      "please input z: 22\n",
      "[11, 13, 22]\n"
     ]
    }
   ],
   "source": [
    "while 1:\n",
    "    try:\n",
    "        x = int(input(\"please input x: \"))\n",
    "        y = int(input(\"please input y: \"))\n",
    "        z = int(input(\"please input z: \"))\n",
    "        lst = [x, y, z]\n",
    "        print(sorted(lst))\n",
    "        break\n",
    "    except:\n",
    "        print(\"please input integer.\")"
   ]
  },
  {
   "cell_type": "code",
   "execution_count": null,
   "metadata": {},
   "outputs": [],
   "source": []
  }
 ],
 "metadata": {
  "kernelspec": {
   "display_name": "Python 3",
   "language": "python",
   "name": "python3"
  },
  "language_info": {
   "codemirror_mode": {
    "name": "ipython",
    "version": 3
   },
   "file_extension": ".py",
   "mimetype": "text/x-python",
   "name": "python",
   "nbconvert_exporter": "python",
   "pygments_lexer": "ipython3",
   "version": "3.6.2"
  }
 },
 "nbformat": 4,
 "nbformat_minor": 2
}
